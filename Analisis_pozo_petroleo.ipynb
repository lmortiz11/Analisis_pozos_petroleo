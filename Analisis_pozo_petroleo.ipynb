{
 "cells": [
  {
   "cell_type": "markdown",
   "metadata": {},
   "source": [
    "# Análisis exploración pozos de petróleo"
   ]
  },
  {
   "cell_type": "markdown",
   "metadata": {},
   "source": [
    "## Preprocesamiento de datos\n",
    "Descargar todas las librerias que se van a usar y abrir los archivos"
   ]
  },
  {
   "cell_type": "code",
   "execution_count": 1,
   "metadata": {},
   "outputs": [],
   "source": [
    "import pandas as pd \n",
    "from matplotlib import pyplot as plt\n",
    "import numpy as np\n",
    "\n",
    "\n",
    "from sklearn.linear_model import LinearRegression\n",
    "from sklearn.model_selection import train_test_split\n",
    "\n",
    "from sklearn.metrics import mean_squared_error"
   ]
  },
  {
   "cell_type": "code",
   "execution_count": 2,
   "metadata": {},
   "outputs": [],
   "source": [
    "data_0=pd.read_csv('/datasets/geo_data_0.csv')\n",
    "data_1=pd.read_csv('/datasets/geo_data_1.csv')\n",
    "data_2=pd.read_csv('/datasets/geo_data_2.csv')"
   ]
  },
  {
   "cell_type": "code",
   "execution_count": 3,
   "metadata": {},
   "outputs": [
    {
     "name": "stdout",
     "output_type": "stream",
     "text": [
      "<class 'pandas.core.frame.DataFrame'>\n",
      "RangeIndex: 100000 entries, 0 to 99999\n",
      "Data columns (total 5 columns):\n",
      " #   Column   Non-Null Count   Dtype  \n",
      "---  ------   --------------   -----  \n",
      " 0   id       100000 non-null  object \n",
      " 1   f0       100000 non-null  float64\n",
      " 2   f1       100000 non-null  float64\n",
      " 3   f2       100000 non-null  float64\n",
      " 4   product  100000 non-null  float64\n",
      "dtypes: float64(4), object(1)\n",
      "memory usage: 3.8+ MB\n"
     ]
    }
   ],
   "source": [
    "data_0.info()"
   ]
  },
  {
   "cell_type": "code",
   "execution_count": 4,
   "metadata": {},
   "outputs": [],
   "source": [
    "#Se elimina las filas que estan duplicadas\n",
    "data_0= data_0.drop_duplicates().reset_index(drop=True)\n",
    "\n",
    "#Se elimina las filas donde el id esta duplicado\n",
    "data_0=data_0.drop_duplicates(subset=['id']).reset_index(drop=True)"
   ]
  },
  {
   "cell_type": "code",
   "execution_count": 5,
   "metadata": {},
   "outputs": [
    {
     "name": "stdout",
     "output_type": "stream",
     "text": [
      "<class 'pandas.core.frame.DataFrame'>\n",
      "RangeIndex: 100000 entries, 0 to 99999\n",
      "Data columns (total 5 columns):\n",
      " #   Column   Non-Null Count   Dtype  \n",
      "---  ------   --------------   -----  \n",
      " 0   id       100000 non-null  object \n",
      " 1   f0       100000 non-null  float64\n",
      " 2   f1       100000 non-null  float64\n",
      " 3   f2       100000 non-null  float64\n",
      " 4   product  100000 non-null  float64\n",
      "dtypes: float64(4), object(1)\n",
      "memory usage: 3.8+ MB\n"
     ]
    }
   ],
   "source": [
    "data_1.info()"
   ]
  },
  {
   "cell_type": "code",
   "execution_count": 6,
   "metadata": {},
   "outputs": [],
   "source": [
    "#Se elimina las filas que estan duplicadas\n",
    "data_1= data_1.drop_duplicates().reset_index(drop=True)\n",
    "\n",
    "#Se elimina las filas donde el id esta duplicado\n",
    "data_1=data_1.drop_duplicates(subset=['id']).reset_index(drop=True)"
   ]
  },
  {
   "cell_type": "code",
   "execution_count": 7,
   "metadata": {},
   "outputs": [
    {
     "name": "stdout",
     "output_type": "stream",
     "text": [
      "<class 'pandas.core.frame.DataFrame'>\n",
      "RangeIndex: 100000 entries, 0 to 99999\n",
      "Data columns (total 5 columns):\n",
      " #   Column   Non-Null Count   Dtype  \n",
      "---  ------   --------------   -----  \n",
      " 0   id       100000 non-null  object \n",
      " 1   f0       100000 non-null  float64\n",
      " 2   f1       100000 non-null  float64\n",
      " 3   f2       100000 non-null  float64\n",
      " 4   product  100000 non-null  float64\n",
      "dtypes: float64(4), object(1)\n",
      "memory usage: 3.8+ MB\n"
     ]
    },
    {
     "data": {
      "text/html": [
       "<div>\n",
       "<style scoped>\n",
       "    .dataframe tbody tr th:only-of-type {\n",
       "        vertical-align: middle;\n",
       "    }\n",
       "\n",
       "    .dataframe tbody tr th {\n",
       "        vertical-align: top;\n",
       "    }\n",
       "\n",
       "    .dataframe thead th {\n",
       "        text-align: right;\n",
       "    }\n",
       "</style>\n",
       "<table border=\"1\" class=\"dataframe\">\n",
       "  <thead>\n",
       "    <tr style=\"text-align: right;\">\n",
       "      <th></th>\n",
       "      <th>id</th>\n",
       "      <th>f0</th>\n",
       "      <th>f1</th>\n",
       "      <th>f2</th>\n",
       "      <th>product</th>\n",
       "    </tr>\n",
       "  </thead>\n",
       "  <tbody>\n",
       "    <tr>\n",
       "      <th>0</th>\n",
       "      <td>fwXo0</td>\n",
       "      <td>-1.146987</td>\n",
       "      <td>0.963328</td>\n",
       "      <td>-0.828965</td>\n",
       "      <td>27.758673</td>\n",
       "    </tr>\n",
       "    <tr>\n",
       "      <th>1</th>\n",
       "      <td>WJtFt</td>\n",
       "      <td>0.262778</td>\n",
       "      <td>0.269839</td>\n",
       "      <td>-2.530187</td>\n",
       "      <td>56.069697</td>\n",
       "    </tr>\n",
       "    <tr>\n",
       "      <th>2</th>\n",
       "      <td>ovLUW</td>\n",
       "      <td>0.194587</td>\n",
       "      <td>0.289035</td>\n",
       "      <td>-5.586433</td>\n",
       "      <td>62.871910</td>\n",
       "    </tr>\n",
       "    <tr>\n",
       "      <th>3</th>\n",
       "      <td>q6cA6</td>\n",
       "      <td>2.236060</td>\n",
       "      <td>-0.553760</td>\n",
       "      <td>0.930038</td>\n",
       "      <td>114.572842</td>\n",
       "    </tr>\n",
       "    <tr>\n",
       "      <th>4</th>\n",
       "      <td>WPMUX</td>\n",
       "      <td>-0.515993</td>\n",
       "      <td>1.716266</td>\n",
       "      <td>5.899011</td>\n",
       "      <td>149.600746</td>\n",
       "    </tr>\n",
       "  </tbody>\n",
       "</table>\n",
       "</div>"
      ],
      "text/plain": [
       "      id        f0        f1        f2     product\n",
       "0  fwXo0 -1.146987  0.963328 -0.828965   27.758673\n",
       "1  WJtFt  0.262778  0.269839 -2.530187   56.069697\n",
       "2  ovLUW  0.194587  0.289035 -5.586433   62.871910\n",
       "3  q6cA6  2.236060 -0.553760  0.930038  114.572842\n",
       "4  WPMUX -0.515993  1.716266  5.899011  149.600746"
      ]
     },
     "execution_count": 7,
     "metadata": {},
     "output_type": "execute_result"
    }
   ],
   "source": [
    "data_2.info()\n",
    "data_2.head()"
   ]
  },
  {
   "cell_type": "code",
   "execution_count": 8,
   "metadata": {},
   "outputs": [],
   "source": [
    "#Se elimina las filas que estan duplicadas\n",
    "data_2= data_2.drop_duplicates().reset_index(drop=True)\n",
    "\n",
    "#Se elimina las filas donde el id esta duplicado\n",
    "data_2=data_2.drop_duplicates(subset=['id']).reset_index(drop=True)"
   ]
  },
  {
   "cell_type": "markdown",
   "metadata": {},
   "source": [
    "Se observa que ninguno de los archivos tiene valores auscentes y el tipo de cada variable es correcto, y se eliminan las filas que están duplicadas y las filas donde los id esten duplicadas ya que este es único para cada pozo por lo que no deben haber iguales."
   ]
  },
  {
   "cell_type": "markdown",
   "metadata": {},
   "source": [
    "## Modelo de entrenamiento \n",
    "\n",
    "Para realizar este entrenamiento no se tomara en cuenta la columna ID ya que esta no aporta información relevante para este modelo, ya que son números único utilizados para identificar el pozo. También se observa que en estos datos no hay características categóricas."
   ]
  },
  {
   "cell_type": "code",
   "execution_count": 9,
   "metadata": {},
   "outputs": [],
   "source": [
    "region_0=data_0.drop('id', axis='columns')"
   ]
  },
  {
   "cell_type": "markdown",
   "metadata": {},
   "source": [
    "Se divide los datos en features y el target que para este caso es 'product', que es volumen de reservas en el pozo de petróleo (miles de barriles). Luego dividimos todo en un conjunto de entrenamiento y uno de validación, con una proporción de 75:25"
   ]
  },
  {
   "cell_type": "code",
   "execution_count": 10,
   "metadata": {},
   "outputs": [],
   "source": [
    "features=region_0.drop(['product'], axis='columns')\n",
    "target=region_0['product']\n",
    "\n",
    "features_train, features_valid, target_train, target_valid, id_train, id_valid = train_test_split(\n",
    "    features, target, data_0['id'] ,test_size=0.25, random_state=12345)"
   ]
  },
  {
   "cell_type": "code",
   "execution_count": 11,
   "metadata": {},
   "outputs": [
    {
     "name": "stdout",
     "output_type": "stream",
     "text": [
      "El volumen medio de reservas predicho es de: 92.78915638280621\n",
      "RMSE del modelo de regresión lineal en el conjunto de validación: 37.853527328872964\n"
     ]
    }
   ],
   "source": [
    "#inicia el modelo\n",
    "model_0 = LinearRegression()\n",
    "\n",
    "#Entrena el modelo en el conjunto de entrenamiento\n",
    "model_0.fit(features_train,target_train)\n",
    "\n",
    "#predicted value\n",
    "predictions_valid = model_0.predict(features_valid)\n",
    "\n",
    "# calcula la RMSE en el conjunto de validación\n",
    "mean_volume=predictions_valid.mean()\n",
    "result = mean_squared_error(target_valid,predictions_valid)**0.5\n",
    "\n",
    "print(\"El volumen medio de reservas predicho es de:\", mean_volume)\n",
    "print(\"RMSE del modelo de regresión lineal en el conjunto de validación:\", result)"
   ]
  },
  {
   "cell_type": "markdown",
   "metadata": {},
   "source": [
    "### Función para entrenamiento del modelo para las regiones"
   ]
  },
  {
   "cell_type": "code",
   "execution_count": 12,
   "metadata": {},
   "outputs": [],
   "source": [
    "def model (data):\n",
    "    region=data.drop('id', axis='columns')\n",
    "    features=region.drop(['product'], axis='columns')\n",
    "    target=region['product']\n",
    "\n",
    "    features_train, features_valid, target_train, target_valid = train_test_split(features, target, test_size=0.25, \n",
    "                                                                                  random_state=12345)\n",
    "    #inicia el modelo\n",
    "    model = LinearRegression()\n",
    "\n",
    "    #Entrena el modelo en el conjunto de entrenamiento\n",
    "    model.fit(features_train,target_train)\n",
    "\n",
    "    #predicted value\n",
    "    predictions_valid = model.predict(features_valid)\n",
    "\n",
    "    # calcula la RMSE en el conjunto de validación\n",
    "    mean_volume=predictions_valid.mean()\n",
    "    result = mean_squared_error(target_valid,predictions_valid)**0.5\n",
    "\n",
    "    return  mean_volume,result, predictions_valid\n",
    "   "
   ]
  },
  {
   "cell_type": "code",
   "execution_count": 13,
   "metadata": {},
   "outputs": [
    {
     "name": "stdout",
     "output_type": "stream",
     "text": [
      "El volumen medio de reservas predicho es de: 92.78915638280621\n",
      "RMSE del modelo de regresión lineal en el conjunto de validación: 37.853527328872964\n"
     ]
    }
   ],
   "source": [
    "model0=model(data_0)\n",
    "\n",
    "print(\"El volumen medio de reservas predicho es de:\", model0[0])\n",
    "print(\"RMSE del modelo de regresión lineal en el conjunto de validación:\", model0[1])"
   ]
  },
  {
   "cell_type": "markdown",
   "metadata": {},
   "source": [
    "### Resultado para la región 1"
   ]
  },
  {
   "cell_type": "code",
   "execution_count": 14,
   "metadata": {},
   "outputs": [
    {
     "name": "stdout",
     "output_type": "stream",
     "text": [
      "El volumen medio de reservas predicho es de: 69.17831957030432\n",
      "RMSE del modelo de regresión lineal en el conjunto de validación: 0.8920592647717029\n"
     ]
    }
   ],
   "source": [
    "model1=model(data_1)\n",
    "\n",
    "print(\"El volumen medio de reservas predicho es de:\", model1[0])\n",
    "print(\"RMSE del modelo de regresión lineal en el conjunto de validación:\", model1[1])"
   ]
  },
  {
   "cell_type": "markdown",
   "metadata": {},
   "source": [
    "### Resultado para la región 2"
   ]
  },
  {
   "cell_type": "code",
   "execution_count": 15,
   "metadata": {},
   "outputs": [
    {
     "name": "stdout",
     "output_type": "stream",
     "text": [
      "El volumen medio de reservas predicho es de: 94.86572480562035\n",
      "RMSE del modelo de regresión lineal en el conjunto de validación: 40.07585073246016\n"
     ]
    }
   ],
   "source": [
    "model2=model(data_2)\n",
    "\n",
    "print(\"El volumen medio de reservas predicho es de:\", model2[0])\n",
    "print(\"RMSE del modelo de regresión lineal en el conjunto de validación:\", model2[1])"
   ]
  },
  {
   "cell_type": "markdown",
   "metadata": {},
   "source": [
    "### Conclusiones\n",
    "Al observar los resultados obtenidos por el modelo para las tres regiones, se ve que la región que tiene un promedio de volumen de petrole o más grande es la 2, sin embargo para esta región la raíz del error cuadrático medio (RMSE) es muy alta, de 40. Lo mismo se observa con los resultados de la región 1, el volumen medio de reservas es alto pero su RMSE es muy alta.\n",
    "\n",
    "La región donde se obtuvieron mejores resultados en la región 1 ya que RMSE, es muy baja y el promedio de volumen de reservas en el pozo de petróleo en esta región es de 68.7 aprox.\n"
   ]
  },
  {
   "cell_type": "markdown",
   "metadata": {},
   "source": [
    "## Calculo de ganancias\n",
    "- El presupuesto para el desarrollo de 200 pozos petroleros es de 100 millones de dólares.\n",
    "\n",
    "- El ingreso de una unidad de producto es de 4500 dólares\n",
    "\n",
    "- Después de la evaluación de riesgo, mantén solo las regiones con riesgo de pérdidas inferior al 2.5%"
   ]
  },
  {
   "cell_type": "code",
   "execution_count": 16,
   "metadata": {},
   "outputs": [],
   "source": [
    "presupuesto= 100000000\n",
    "ingreso= 4500\n",
    "perdidas_min=0.025\n",
    "num_pozos=200"
   ]
  },
  {
   "cell_type": "markdown",
   "metadata": {},
   "source": [
    "Se toma la lista de los volumenes predichos para cada región y se organizan de forma descendente para tomar los mejores 200 pozos."
   ]
  },
  {
   "cell_type": "markdown",
   "metadata": {},
   "source": [
    "### Calculo de ganacias potenciales por región "
   ]
  },
  {
   "cell_type": "code",
   "execution_count": 17,
   "metadata": {},
   "outputs": [],
   "source": [
    "#Se define una función que selecciona los mejores 200 pozos que se obtienen al entrenar el modelo\n",
    "def best_200(region_data):\n",
    "    sorted_volumes=-np.sort(-region_data)\n",
    "    best_200=sorted_volumes[:num_pozos]\n",
    "    \n",
    "    return pd.Series(best_200)"
   ]
  },
  {
   "cell_type": "code",
   "execution_count": 18,
   "metadata": {},
   "outputs": [],
   "source": [
    "region_0_best= best_200(model0[2])\n",
    "region_1_best= best_200(model1[2])\n",
    "region_2_best= best_200(model2[2])"
   ]
  },
  {
   "cell_type": "code",
   "execution_count": 19,
   "metadata": {},
   "outputs": [],
   "source": [
    "#Función que calcula las ganancias\n",
    "def ganancias(volume_data):\n",
    "    ganancia=(sum(volume_data)*ingreso)-presupuesto\n",
    "    \n",
    "    return ganancia"
   ]
  },
  {
   "cell_type": "code",
   "execution_count": 20,
   "metadata": {},
   "outputs": [
    {
     "name": "stdout",
     "output_type": "stream",
     "text": [
      "Las ganacias para la región cero son de 39816309.10522351\n",
      "Las ganacias para la región uno son de 24860607.851266265\n",
      "Las ganacias para la región dos son de 33629149.07793103\n"
     ]
    }
   ],
   "source": [
    "print (f'Las ganacias para la región cero son de {ganancias(region_0_best)}')\n",
    "print (f'Las ganacias para la región uno son de {ganancias(region_1_best)}')\n",
    "print (f'Las ganacias para la región dos son de {ganancias(region_2_best)}')"
   ]
  },
  {
   "cell_type": "markdown",
   "metadata": {},
   "source": [
    "### Conclusiones\n",
    "\n",
    "Se calculo las ganancias potenciales multiplicando el volumen de reseva de pozos predecidos por el modelo y se multiplica por  4500 dólares que es lo que se obtiene por cada unidad. \n",
    "\n",
    "Con base en las ganancias obtenidas para cada región, escogería la región 0 para el desarrollo de pozos petrolíferos, ya que es en la que se obuvieron mayores ganancias y a pesar de que la RMSE del modelo es alta no es tan alta como el que se obtuvo para la región 2, y las ganancias de esta región son mucho más altas que los de la región 1."
   ]
  },
  {
   "cell_type": "markdown",
   "metadata": {},
   "source": [
    "## Cálculo de riesgo y ganancia por región"
   ]
  },
  {
   "cell_type": "markdown",
   "metadata": {},
   "source": [
    "### Aplicar técnica del bootstraping"
   ]
  },
  {
   "cell_type": "markdown",
   "metadata": {},
   "source": [
    "Se crea una función para realizar el bootstaraping, donde los parametros que recibe son los datos predichos por el modelo para cada región, y el número de veces que se realiza el resample, para qeste caso es de 1000. y se le calcula las ganancias escogiendo los mejores 200 pozos. Como queremos un intervalo de confianza de 95%, se calcula el cuantil de 2.5% y 97.5%. Luego se grafica la distribución de los beneficios. \n",
    "\n",
    "Por último se calcula la probabilidad de perdida, para esto se cuenta las veces en las que la ganancia es negativa y se divide sobre el total de muestra y se multiplica por 100 para expresarla en porcentaje."
   ]
  },
  {
   "cell_type": "code",
   "execution_count": 21,
   "metadata": {},
   "outputs": [],
   "source": [
    "def create_bootstrap_samples(region_model, n_samples = 1000):\n",
    "    values=[]\n",
    "    state=np.random.RandomState(12345)\n",
    "    count=0\n",
    "    \n",
    "    for i in range(n_samples):\n",
    "        bootstrap_sample=pd.Series(region_model).sample(n=500, replace = True, random_state=state)\n",
    "    \n",
    "        sorted_volumes=(bootstrap_sample.sort_values(ascending=False))[:200]\n",
    "        beneficio= ganancias(sorted_volumes)\n",
    "        \n",
    "        if beneficio<0:\n",
    "            count+=1\n",
    "        values.append(beneficio)\n",
    "        \n",
    "    values= pd.Series(values)\n",
    "        \n",
    "    lower = values.quantile(q = 0.025)\n",
    "    higher = values.quantile(q = 0.975)\n",
    "\n",
    "    #probabilidad de perdida\n",
    "    probabilidad= count/n_samples*100\n",
    "    \n",
    "    # Grafica la distribución\n",
    "    values.plot(kind = 'hist', bins = 20, title= 'Distribución de los beneficios')\n",
    "\n",
    "    # Se adiciona los cuantiles del nivel de confianza\n",
    "    plt.axvline(lower, color = 'red', ls = '--')\n",
    "    plt.axvline(higher, color = 'red', ls = '--')\n",
    "    \n",
    "    return f'cuantil del 2.5%: {lower}', f'La media de la región es:{values.mean()}', f'La probabilidad de perdida:{probabilidad}%'"
   ]
  },
  {
   "cell_type": "markdown",
   "metadata": {},
   "source": [
    "### Bootstrapping para Región 0 "
   ]
  },
  {
   "cell_type": "code",
   "execution_count": 22,
   "metadata": {},
   "outputs": [
    {
     "data": {
      "text/plain": [
       "('cuantil del 2.5%: 1597195.8218842887',\n",
       " 'La media de la región es:3815855.4738548263',\n",
       " 'La probabilidad de perdida:0.1%')"
      ]
     },
     "execution_count": 22,
     "metadata": {},
     "output_type": "execute_result"
    },
    {
     "data": {
      "image/png": "[encoded data removed]",
      "text/plain": [
       "<Figure size 640x480 with 1 Axes>"
      ]
     },
     "metadata": {},
     "output_type": "display_data"
    }
   ],
   "source": [
    "create_bootstrap_samples(model0[2])"
   ]
  },
  {
   "cell_type": "markdown",
   "metadata": {},
   "source": [
    "### Bootstrapping para Región 1"
   ]
  },
  {
   "cell_type": "code",
   "execution_count": 23,
   "metadata": {},
   "outputs": [
    {
     "data": {
      "text/plain": [
       "('cuantil del 2.5%: 872771.3438961939',\n",
       " 'La media de la región es:4750966.02699624',\n",
       " 'La probabilidad de perdida:1.2%')"
      ]
     },
     "execution_count": 23,
     "metadata": {},
     "output_type": "execute_result"
    },
    {
     "data": {
      "image/png": "[encoded data removed]",
      "text/plain": [
       "<Figure size 640x480 with 1 Axes>"
      ]
     },
     "metadata": {},
     "output_type": "display_data"
    }
   ],
   "source": [
    "create_bootstrap_samples(model1[2])"
   ]
  },
  {
   "cell_type": "markdown",
   "metadata": {},
   "source": [
    "### Bootstrapping para Región 2"
   ]
  },
  {
   "cell_type": "code",
   "execution_count": 24,
   "metadata": {},
   "outputs": [
    {
     "data": {
      "text/plain": [
       "('cuantil del 2.5%: 1046744.4054076117',\n",
       " 'La media de la región es:2997133.9679976427',\n",
       " 'La probabilidad de perdida:0.0%')"
      ]
     },
     "execution_count": 24,
     "metadata": {},
     "output_type": "execute_result"
    },
    {
     "data": {
      "image/png": "[encoded data removed]",
      "text/plain": [
       "<Figure size 640x480 with 1 Axes>"
      ]
     },
     "metadata": {},
     "output_type": "display_data"
    }
   ],
   "source": [
    "create_bootstrap_samples(model2[2])"
   ]
  },
  {
   "cell_type": "markdown",
   "metadata": {},
   "source": [
    "## Conclusiones\n",
    "\n"
   ]
  },
  {
   "cell_type": "markdown",
   "metadata": {},
   "source": [
    "Al realizar el bootstrapping para las tres regiones, la región que escogería para el desarrollo de pozos petrolíferos es la region 1, ya que al hacer el bootstrapping fue la región en donde se obtuvo una media mayor comparada con las otras regiones, a pesar de que fue la región donde el porcentaje de perdida fue el más alto de las tres regiones este sigue siendo bajo, apenas del 1.2%. "
   ]
  }
 ],
 "metadata": {
  "ExecuteTimeLog": [
   {
    "duration": 2586,
    "start_time": "2024-11-13T00:20:50.576Z"
   },
   {
    "duration": 609,
    "start_time": "2024-11-13T00:21:35.182Z"
   },
   {
    "duration": 104,
    "start_time": "2024-11-13T00:22:06.659Z"
   },
   {
    "duration": 269,
    "start_time": "2024-11-13T00:22:28.055Z"
   },
   {
    "duration": 13,
    "start_time": "2024-11-13T00:22:47.383Z"
   },
   {
    "duration": 12,
    "start_time": "2024-11-13T00:23:18.157Z"
   },
   {
    "duration": 12,
    "start_time": "2024-11-13T00:23:25.306Z"
   },
   {
    "duration": 13,
    "start_time": "2024-11-13T00:25:29.953Z"
   },
   {
    "duration": 14,
    "start_time": "2024-11-13T00:25:41.849Z"
   },
   {
    "duration": 12,
    "start_time": "2024-11-13T00:25:51.338Z"
   },
   {
    "duration": 2570,
    "start_time": "2024-11-13T17:52:17.767Z"
   },
   {
    "duration": 307,
    "start_time": "2024-11-13T17:52:20.340Z"
   },
   {
    "duration": 12,
    "start_time": "2024-11-13T17:52:21.416Z"
   },
   {
    "duration": 11,
    "start_time": "2024-11-13T17:52:22.227Z"
   },
   {
    "duration": 12,
    "start_time": "2024-11-13T17:52:22.980Z"
   },
   {
    "duration": 285,
    "start_time": "2024-11-13T18:40:17.868Z"
   },
   {
    "duration": 18,
    "start_time": "2024-11-13T18:40:26.257Z"
   },
   {
    "duration": 682,
    "start_time": "2024-11-13T18:45:14.375Z"
   },
   {
    "duration": 5,
    "start_time": "2024-11-13T18:45:29.119Z"
   },
   {
    "duration": 14,
    "start_time": "2024-11-13T18:45:34.558Z"
   },
   {
    "duration": 9,
    "start_time": "2024-11-13T18:45:38.651Z"
   },
   {
    "duration": 4,
    "start_time": "2024-11-13T22:37:48.096Z"
   },
   {
    "duration": 6,
    "start_time": "2024-11-13T22:45:14.467Z"
   },
   {
    "duration": 12,
    "start_time": "2024-11-13T22:45:19.256Z"
   },
   {
    "duration": 9,
    "start_time": "2024-11-13T22:45:23.237Z"
   },
   {
    "duration": 7,
    "start_time": "2024-11-13T22:45:29.271Z"
   },
   {
    "duration": 3,
    "start_time": "2024-11-13T22:47:27.937Z"
   },
   {
    "duration": 11,
    "start_time": "2024-11-13T22:56:32.490Z"
   },
   {
    "duration": 11,
    "start_time": "2024-11-13T22:58:47.075Z"
   },
   {
    "duration": 9,
    "start_time": "2024-11-13T23:00:13.204Z"
   },
   {
    "duration": 29,
    "start_time": "2024-11-13T23:05:05.124Z"
   },
   {
    "duration": 3,
    "start_time": "2024-11-13T23:06:29.574Z"
   },
   {
    "duration": 10,
    "start_time": "2024-11-13T23:06:36.207Z"
   },
   {
    "duration": 11,
    "start_time": "2024-11-13T23:22:43.493Z"
   },
   {
    "duration": 9,
    "start_time": "2024-11-13T23:22:59.934Z"
   },
   {
    "duration": 10,
    "start_time": "2024-11-13T23:23:39.279Z"
   },
   {
    "duration": 10,
    "start_time": "2024-11-13T23:38:15.269Z"
   },
   {
    "duration": 2686,
    "start_time": "2024-11-14T21:01:04.129Z"
   },
   {
    "duration": 311,
    "start_time": "2024-11-14T21:01:06.817Z"
   },
   {
    "duration": 12,
    "start_time": "2024-11-14T21:01:07.130Z"
   },
   {
    "duration": 11,
    "start_time": "2024-11-14T21:01:07.144Z"
   },
   {
    "duration": 32,
    "start_time": "2024-11-14T21:01:07.170Z"
   },
   {
    "duration": 4,
    "start_time": "2024-11-14T21:01:07.203Z"
   },
   {
    "duration": 13,
    "start_time": "2024-11-14T21:01:07.209Z"
   },
   {
    "duration": 12,
    "start_time": "2024-11-14T21:01:07.223Z"
   },
   {
    "duration": 2578,
    "start_time": "2024-11-15T15:29:23.450Z"
   },
   {
    "duration": 303,
    "start_time": "2024-11-15T15:29:26.030Z"
   },
   {
    "duration": 12,
    "start_time": "2024-11-15T15:29:26.335Z"
   },
   {
    "duration": 10,
    "start_time": "2024-11-15T15:29:26.349Z"
   },
   {
    "duration": 16,
    "start_time": "2024-11-15T15:29:26.360Z"
   },
   {
    "duration": 4,
    "start_time": "2024-11-15T15:29:26.378Z"
   },
   {
    "duration": 10,
    "start_time": "2024-11-15T15:29:26.384Z"
   },
   {
    "duration": 35,
    "start_time": "2024-11-15T15:29:26.395Z"
   },
   {
    "duration": 2623,
    "start_time": "2024-11-16T02:21:26.002Z"
   },
   {
    "duration": 305,
    "start_time": "2024-11-16T02:21:28.627Z"
   },
   {
    "duration": 12,
    "start_time": "2024-11-16T02:21:28.934Z"
   },
   {
    "duration": 11,
    "start_time": "2024-11-16T02:21:28.948Z"
   },
   {
    "duration": 19,
    "start_time": "2024-11-16T02:21:28.961Z"
   },
   {
    "duration": 5,
    "start_time": "2024-11-16T02:21:28.982Z"
   },
   {
    "duration": 11,
    "start_time": "2024-11-16T02:21:29.009Z"
   },
   {
    "duration": 12,
    "start_time": "2024-11-16T02:21:29.021Z"
   },
   {
    "duration": 341,
    "start_time": "2024-11-16T02:24:12.765Z"
   },
   {
    "duration": 4,
    "start_time": "2024-11-16T03:01:50.543Z"
   },
   {
    "duration": 23,
    "start_time": "2024-11-16T03:02:12.154Z"
   },
   {
    "duration": 5,
    "start_time": "2024-11-16T03:02:35.320Z"
   },
   {
    "duration": 24,
    "start_time": "2024-11-16T03:02:36.724Z"
   },
   {
    "duration": 3,
    "start_time": "2024-11-16T03:03:09.143Z"
   },
   {
    "duration": 22,
    "start_time": "2024-11-16T03:03:10.031Z"
   },
   {
    "duration": 4,
    "start_time": "2024-11-16T03:03:21.856Z"
   },
   {
    "duration": 22,
    "start_time": "2024-11-16T03:03:22.420Z"
   },
   {
    "duration": 22,
    "start_time": "2024-11-16T03:03:42.596Z"
   },
   {
    "duration": 23,
    "start_time": "2024-11-16T03:03:46.487Z"
   },
   {
    "duration": 22,
    "start_time": "2024-11-16T03:07:25.337Z"
   },
   {
    "duration": 3,
    "start_time": "2024-11-16T03:07:37.512Z"
   },
   {
    "duration": 22,
    "start_time": "2024-11-16T03:07:55.854Z"
   },
   {
    "duration": 2635,
    "start_time": "2024-11-16T22:43:54.002Z"
   },
   {
    "duration": 301,
    "start_time": "2024-11-16T22:43:56.640Z"
   },
   {
    "duration": 13,
    "start_time": "2024-11-16T22:43:56.943Z"
   },
   {
    "duration": 11,
    "start_time": "2024-11-16T22:43:56.958Z"
   },
   {
    "duration": 17,
    "start_time": "2024-11-16T22:43:56.973Z"
   },
   {
    "duration": 21,
    "start_time": "2024-11-16T22:43:56.991Z"
   },
   {
    "duration": 10,
    "start_time": "2024-11-16T22:43:57.014Z"
   },
   {
    "duration": 13,
    "start_time": "2024-11-16T22:43:57.026Z"
   },
   {
    "duration": 5,
    "start_time": "2024-11-16T22:43:57.041Z"
   },
   {
    "duration": 83,
    "start_time": "2024-11-16T22:43:57.048Z"
   },
   {
    "duration": 178,
    "start_time": "2024-11-16T22:43:57.133Z"
   },
   {
    "duration": 2,
    "start_time": "2024-11-16T22:57:42.147Z"
   },
   {
    "duration": 2701,
    "start_time": "2024-11-18T15:05:20.864Z"
   },
   {
    "duration": 308,
    "start_time": "2024-11-18T15:05:23.568Z"
   },
   {
    "duration": 11,
    "start_time": "2024-11-18T15:05:23.878Z"
   },
   {
    "duration": 10,
    "start_time": "2024-11-18T15:05:23.892Z"
   },
   {
    "duration": 39,
    "start_time": "2024-11-18T15:05:23.904Z"
   },
   {
    "duration": 5,
    "start_time": "2024-11-18T15:05:23.945Z"
   },
   {
    "duration": 11,
    "start_time": "2024-11-18T15:05:23.951Z"
   },
   {
    "duration": 12,
    "start_time": "2024-11-18T15:05:23.964Z"
   },
   {
    "duration": 5,
    "start_time": "2024-11-18T15:05:23.978Z"
   },
   {
    "duration": 102,
    "start_time": "2024-11-18T15:05:24.033Z"
   },
   {
    "duration": 97,
    "start_time": "2024-11-18T15:05:24.138Z"
   },
   {
    "duration": 2,
    "start_time": "2024-11-18T15:05:24.237Z"
   },
   {
    "duration": 4,
    "start_time": "2024-11-18T15:17:55.179Z"
   },
   {
    "duration": 219,
    "start_time": "2024-11-18T15:18:09.437Z"
   },
   {
    "duration": 3,
    "start_time": "2024-11-18T15:18:17.541Z"
   },
   {
    "duration": 3,
    "start_time": "2024-11-18T15:18:22.066Z"
   },
   {
    "duration": 2,
    "start_time": "2024-11-18T15:18:28.954Z"
   },
   {
    "duration": 3,
    "start_time": "2024-11-18T15:18:48.591Z"
   },
   {
    "duration": 4,
    "start_time": "2024-11-18T15:18:56.881Z"
   },
   {
    "duration": 945,
    "start_time": "2024-11-18T15:19:19.655Z"
   },
   {
    "duration": 220,
    "start_time": "2024-11-18T15:19:20.602Z"
   },
   {
    "duration": 12,
    "start_time": "2024-11-18T15:19:20.823Z"
   },
   {
    "duration": 10,
    "start_time": "2024-11-18T15:19:20.837Z"
   },
   {
    "duration": 17,
    "start_time": "2024-11-18T15:19:20.849Z"
   },
   {
    "duration": 5,
    "start_time": "2024-11-18T15:19:20.867Z"
   },
   {
    "duration": 11,
    "start_time": "2024-11-18T15:19:20.873Z"
   },
   {
    "duration": 47,
    "start_time": "2024-11-18T15:19:20.886Z"
   },
   {
    "duration": 5,
    "start_time": "2024-11-18T15:19:20.934Z"
   },
   {
    "duration": 98,
    "start_time": "2024-11-18T15:19:20.940Z"
   },
   {
    "duration": 95,
    "start_time": "2024-11-18T15:19:21.040Z"
   },
   {
    "duration": 2,
    "start_time": "2024-11-18T15:19:21.137Z"
   },
   {
    "duration": 4,
    "start_time": "2024-11-18T15:19:49.584Z"
   },
   {
    "duration": 284,
    "start_time": "2024-11-18T15:22:47.330Z"
   },
   {
    "duration": 13,
    "start_time": "2024-11-18T15:23:58.081Z"
   },
   {
    "duration": 13,
    "start_time": "2024-11-18T15:25:38.164Z"
   },
   {
    "duration": 4,
    "start_time": "2024-11-18T15:25:49.192Z"
   },
   {
    "duration": 14,
    "start_time": "2024-11-18T15:28:51.917Z"
   },
   {
    "duration": 2,
    "start_time": "2024-11-18T15:29:05.454Z"
   },
   {
    "duration": 5,
    "start_time": "2024-11-18T15:29:06.137Z"
   },
   {
    "duration": 13,
    "start_time": "2024-11-18T15:29:29.986Z"
   },
   {
    "duration": 54,
    "start_time": "2024-11-18T15:29:35.767Z"
   },
   {
    "duration": 13,
    "start_time": "2024-11-18T15:31:50.231Z"
   },
   {
    "duration": 896,
    "start_time": "2024-11-18T15:32:20.000Z"
   },
   {
    "duration": 217,
    "start_time": "2024-11-18T15:32:20.898Z"
   },
   {
    "duration": 16,
    "start_time": "2024-11-18T15:32:21.116Z"
   },
   {
    "duration": 12,
    "start_time": "2024-11-18T15:32:21.134Z"
   },
   {
    "duration": 17,
    "start_time": "2024-11-18T15:32:21.149Z"
   },
   {
    "duration": 5,
    "start_time": "2024-11-18T15:32:21.167Z"
   },
   {
    "duration": 11,
    "start_time": "2024-11-18T15:32:21.173Z"
   },
   {
    "duration": 47,
    "start_time": "2024-11-18T15:32:21.186Z"
   },
   {
    "duration": 5,
    "start_time": "2024-11-18T15:32:21.234Z"
   },
   {
    "duration": 98,
    "start_time": "2024-11-18T15:32:21.240Z"
   },
   {
    "duration": 94,
    "start_time": "2024-11-18T15:32:21.340Z"
   },
   {
    "duration": 3,
    "start_time": "2024-11-18T15:32:21.436Z"
   },
   {
    "duration": 4,
    "start_time": "2024-11-18T15:32:21.441Z"
   },
   {
    "duration": 2,
    "start_time": "2024-11-18T15:32:30.232Z"
   },
   {
    "duration": 274,
    "start_time": "2024-11-18T15:32:32.562Z"
   },
   {
    "duration": 5,
    "start_time": "2024-11-18T15:33:38.444Z"
   },
   {
    "duration": 4,
    "start_time": "2024-11-18T15:45:20.444Z"
   },
   {
    "duration": 3,
    "start_time": "2024-11-18T15:46:06.604Z"
   },
   {
    "duration": 8,
    "start_time": "2024-11-18T15:47:35.852Z"
   },
   {
    "duration": 11,
    "start_time": "2024-11-18T15:48:39.863Z"
   },
   {
    "duration": 112,
    "start_time": "2024-11-18T15:49:05.327Z"
   },
   {
    "duration": 10,
    "start_time": "2024-11-18T15:49:22.443Z"
   },
   {
    "duration": 11,
    "start_time": "2024-11-18T15:49:24.241Z"
   },
   {
    "duration": 27,
    "start_time": "2024-11-18T15:50:41.050Z"
   },
   {
    "duration": 14,
    "start_time": "2024-11-18T15:51:08.493Z"
   },
   {
    "duration": 10,
    "start_time": "2024-11-18T15:51:37.222Z"
   },
   {
    "duration": 11,
    "start_time": "2024-11-18T15:51:44.502Z"
   },
   {
    "duration": 5,
    "start_time": "2024-11-18T15:53:07.382Z"
   },
   {
    "duration": 3,
    "start_time": "2024-11-18T16:03:52.954Z"
   },
   {
    "duration": 4,
    "start_time": "2024-11-18T16:04:13.122Z"
   },
   {
    "duration": 9,
    "start_time": "2024-11-18T16:04:31.176Z"
   },
   {
    "duration": 5,
    "start_time": "2024-11-18T16:04:52.514Z"
   },
   {
    "duration": 10,
    "start_time": "2024-11-18T16:05:29.315Z"
   },
   {
    "duration": 494,
    "start_time": "2024-11-18T16:08:23.415Z"
   },
   {
    "duration": 5,
    "start_time": "2024-11-18T16:09:06.262Z"
   },
   {
    "duration": 904,
    "start_time": "2024-11-18T16:09:27.321Z"
   },
   {
    "duration": 223,
    "start_time": "2024-11-18T16:09:28.227Z"
   },
   {
    "duration": 13,
    "start_time": "2024-11-18T16:09:28.452Z"
   },
   {
    "duration": 11,
    "start_time": "2024-11-18T16:09:28.468Z"
   },
   {
    "duration": 18,
    "start_time": "2024-11-18T16:09:28.482Z"
   },
   {
    "duration": 4,
    "start_time": "2024-11-18T16:09:28.502Z"
   },
   {
    "duration": 12,
    "start_time": "2024-11-18T16:09:28.533Z"
   },
   {
    "duration": 12,
    "start_time": "2024-11-18T16:09:28.547Z"
   },
   {
    "duration": 6,
    "start_time": "2024-11-18T16:10:54.909Z"
   },
   {
    "duration": 896,
    "start_time": "2024-11-18T16:11:38.003Z"
   },
   {
    "duration": 233,
    "start_time": "2024-11-18T16:11:38.902Z"
   },
   {
    "duration": 12,
    "start_time": "2024-11-18T16:11:39.137Z"
   },
   {
    "duration": 11,
    "start_time": "2024-11-18T16:11:39.151Z"
   },
   {
    "duration": 19,
    "start_time": "2024-11-18T16:11:39.164Z"
   },
   {
    "duration": 4,
    "start_time": "2024-11-18T16:11:39.185Z"
   },
   {
    "duration": 46,
    "start_time": "2024-11-18T16:11:39.191Z"
   },
   {
    "duration": 19,
    "start_time": "2024-11-18T16:11:39.239Z"
   },
   {
    "duration": 4,
    "start_time": "2024-11-18T16:11:44.553Z"
   },
   {
    "duration": 23,
    "start_time": "2024-11-18T16:11:46.197Z"
   },
   {
    "duration": 33,
    "start_time": "2024-11-18T16:11:47.813Z"
   },
   {
    "duration": 2,
    "start_time": "2024-11-18T16:11:51.105Z"
   },
   {
    "duration": 6,
    "start_time": "2024-11-18T16:12:40.987Z"
   },
   {
    "duration": 281,
    "start_time": "2024-11-18T16:17:25.825Z"
   },
   {
    "duration": 4,
    "start_time": "2024-11-18T16:17:30.333Z"
   },
   {
    "duration": 3,
    "start_time": "2024-11-18T16:18:47.687Z"
   },
   {
    "duration": 14,
    "start_time": "2024-11-18T16:19:19.431Z"
   },
   {
    "duration": 3,
    "start_time": "2024-11-18T16:19:33.759Z"
   },
   {
    "duration": 2,
    "start_time": "2024-11-18T16:19:46.340Z"
   },
   {
    "duration": 3,
    "start_time": "2024-11-18T16:22:43.403Z"
   },
   {
    "duration": 3,
    "start_time": "2024-11-18T16:22:51.657Z"
   },
   {
    "duration": 2,
    "start_time": "2024-11-18T16:25:27.391Z"
   },
   {
    "duration": 3,
    "start_time": "2024-11-18T16:25:28.295Z"
   },
   {
    "duration": 447,
    "start_time": "2024-11-18T16:35:47.114Z"
   },
   {
    "duration": 30,
    "start_time": "2024-11-18T16:35:51.677Z"
   },
   {
    "duration": 24,
    "start_time": "2024-11-18T16:35:55.369Z"
   },
   {
    "duration": 23,
    "start_time": "2024-11-18T16:36:56.788Z"
   },
   {
    "duration": 22,
    "start_time": "2024-11-18T16:37:23.093Z"
   },
   {
    "duration": 4,
    "start_time": "2024-11-18T16:37:54.045Z"
   },
   {
    "duration": 24,
    "start_time": "2024-11-18T16:37:59.785Z"
   },
   {
    "duration": 4,
    "start_time": "2024-11-18T16:38:12.418Z"
   },
   {
    "duration": 3,
    "start_time": "2024-11-18T16:41:36.826Z"
   },
   {
    "duration": 112,
    "start_time": "2024-11-18T16:42:26.422Z"
   },
   {
    "duration": 47,
    "start_time": "2024-11-18T16:42:49.102Z"
   },
   {
    "duration": 4,
    "start_time": "2024-11-18T17:03:48.120Z"
   },
   {
    "duration": 96,
    "start_time": "2024-11-18T17:03:49.342Z"
   },
   {
    "duration": 88,
    "start_time": "2024-11-18T18:04:39.552Z"
   },
   {
    "duration": 7,
    "start_time": "2024-11-18T18:11:00.757Z"
   },
   {
    "duration": 3,
    "start_time": "2024-11-18T18:11:10.540Z"
   },
   {
    "duration": 59,
    "start_time": "2024-11-18T18:11:16.479Z"
   },
   {
    "duration": 87,
    "start_time": "2024-11-18T18:11:28.049Z"
   },
   {
    "duration": 75,
    "start_time": "2024-11-18T18:11:36.961Z"
   },
   {
    "duration": 386,
    "start_time": "2024-11-18T18:12:38.466Z"
   },
   {
    "duration": 2,
    "start_time": "2024-11-18T18:18:16.770Z"
   },
   {
    "duration": 891,
    "start_time": "2024-11-18T18:37:31.028Z"
   },
   {
    "duration": 937,
    "start_time": "2024-11-18T18:37:52.476Z"
   },
   {
    "duration": 255,
    "start_time": "2024-11-18T18:37:53.830Z"
   },
   {
    "duration": 13,
    "start_time": "2024-11-18T18:37:55.646Z"
   },
   {
    "duration": 11,
    "start_time": "2024-11-18T18:37:56.662Z"
   },
   {
    "duration": 18,
    "start_time": "2024-11-18T18:37:58.064Z"
   },
   {
    "duration": 2,
    "start_time": "2024-11-18T18:38:19.116Z"
   },
   {
    "duration": 18,
    "start_time": "2024-11-18T18:38:23.945Z"
   },
   {
    "duration": 157,
    "start_time": "2024-11-18T18:38:30.495Z"
   },
   {
    "duration": 6,
    "start_time": "2024-11-18T18:41:24.428Z"
   },
   {
    "duration": 219,
    "start_time": "2024-11-18T18:41:39.580Z"
   },
   {
    "duration": 4,
    "start_time": "2024-11-18T18:41:46.290Z"
   },
   {
    "duration": 23,
    "start_time": "2024-11-18T18:41:47.974Z"
   },
   {
    "duration": 11,
    "start_time": "2024-11-18T18:41:54.935Z"
   },
   {
    "duration": 4,
    "start_time": "2024-11-18T18:44:11.087Z"
   },
   {
    "duration": 168,
    "start_time": "2024-11-18T18:44:28.815Z"
   },
   {
    "duration": 9,
    "start_time": "2024-11-18T18:44:32.203Z"
   },
   {
    "duration": 9,
    "start_time": "2024-11-18T18:46:36.084Z"
   },
   {
    "duration": 5,
    "start_time": "2024-11-18T18:47:47.796Z"
   },
   {
    "duration": 7,
    "start_time": "2024-11-18T18:49:49.204Z"
   },
   {
    "duration": 12,
    "start_time": "2024-11-18T18:50:03.713Z"
   },
   {
    "duration": 991,
    "start_time": "2024-11-18T18:53:04.652Z"
   },
   {
    "duration": 237,
    "start_time": "2024-11-18T18:53:05.645Z"
   },
   {
    "duration": 5,
    "start_time": "2024-11-18T18:53:15.496Z"
   },
   {
    "duration": 19,
    "start_time": "2024-11-18T18:53:18.886Z"
   },
   {
    "duration": 16,
    "start_time": "2024-11-18T18:53:25.262Z"
   },
   {
    "duration": 7,
    "start_time": "2024-11-18T18:53:36.839Z"
   },
   {
    "duration": 13,
    "start_time": "2024-11-18T18:53:41.280Z"
   },
   {
    "duration": 12,
    "start_time": "2024-11-18T18:54:54.979Z"
   },
   {
    "duration": 4,
    "start_time": "2024-11-18T18:55:35.950Z"
   },
   {
    "duration": 31,
    "start_time": "2024-11-18T18:55:44.609Z"
   },
   {
    "duration": 23,
    "start_time": "2024-11-18T18:55:46.782Z"
   },
   {
    "duration": 3,
    "start_time": "2024-11-18T18:55:53.980Z"
   },
   {
    "duration": 3,
    "start_time": "2024-11-18T18:56:54.166Z"
   },
   {
    "duration": 106,
    "start_time": "2024-11-18T18:57:07.526Z"
   },
   {
    "duration": 71,
    "start_time": "2024-11-18T18:57:18.863Z"
   },
   {
    "duration": 283,
    "start_time": "2024-11-18T21:42:31.746Z"
   },
   {
    "duration": 4,
    "start_time": "2024-11-18T22:00:54.461Z"
   },
   {
    "duration": 24,
    "start_time": "2024-11-18T22:01:19.162Z"
   },
   {
    "duration": 4,
    "start_time": "2024-11-18T22:01:29.722Z"
   },
   {
    "duration": 1951,
    "start_time": "2024-11-18T22:01:30.258Z"
   },
   {
    "duration": 3,
    "start_time": "2024-11-18T22:05:39.123Z"
   },
   {
    "duration": 415,
    "start_time": "2024-11-18T22:05:39.931Z"
   },
   {
    "duration": 308,
    "start_time": "2024-11-18T22:09:24.523Z"
   },
   {
    "duration": 3,
    "start_time": "2024-11-18T22:10:19.452Z"
   },
   {
    "duration": 3,
    "start_time": "2024-11-18T22:10:22.559Z"
   },
   {
    "duration": 356,
    "start_time": "2024-11-18T22:10:22.992Z"
   },
   {
    "duration": 3,
    "start_time": "2024-11-18T22:10:24.079Z"
   },
   {
    "duration": 3,
    "start_time": "2024-11-18T22:11:23.621Z"
   },
   {
    "duration": 3,
    "start_time": "2024-11-18T22:11:44.479Z"
   },
   {
    "duration": 22,
    "start_time": "2024-11-18T22:11:46.665Z"
   },
   {
    "duration": 6,
    "start_time": "2024-11-18T22:12:35.301Z"
   },
   {
    "duration": 4,
    "start_time": "2024-11-18T22:13:00.195Z"
   },
   {
    "duration": 20,
    "start_time": "2024-11-18T22:13:00.836Z"
   },
   {
    "duration": 4,
    "start_time": "2024-11-18T22:15:26.764Z"
   },
   {
    "duration": 532,
    "start_time": "2024-11-18T22:15:47.034Z"
   },
   {
    "duration": 727,
    "start_time": "2024-11-18T22:16:42.610Z"
   },
   {
    "duration": 5,
    "start_time": "2024-11-18T22:21:01.155Z"
   },
   {
    "duration": 132,
    "start_time": "2024-11-18T22:22:09.581Z"
   },
   {
    "duration": 251,
    "start_time": "2024-11-18T22:22:14.740Z"
   },
   {
    "duration": 533,
    "start_time": "2024-11-18T22:24:05.504Z"
   },
   {
    "duration": 237,
    "start_time": "2024-11-18T22:24:06.536Z"
   },
   {
    "duration": 4,
    "start_time": "2024-11-18T22:47:23.358Z"
   },
   {
    "duration": 5,
    "start_time": "2024-11-18T22:48:54.227Z"
   },
   {
    "duration": 5,
    "start_time": "2024-11-18T22:49:18.755Z"
   },
   {
    "duration": 905,
    "start_time": "2024-11-18T22:52:49.803Z"
   },
   {
    "duration": 235,
    "start_time": "2024-11-18T22:52:50.837Z"
   },
   {
    "duration": 13,
    "start_time": "2024-11-18T22:52:51.872Z"
   },
   {
    "duration": 18,
    "start_time": "2024-11-18T22:52:53.114Z"
   },
   {
    "duration": 5,
    "start_time": "2024-11-18T22:52:56.921Z"
   },
   {
    "duration": 19,
    "start_time": "2024-11-18T22:53:03.469Z"
   },
   {
    "duration": 15,
    "start_time": "2024-11-18T22:53:05.033Z"
   },
   {
    "duration": 4,
    "start_time": "2024-11-18T22:53:12.336Z"
   },
   {
    "duration": 22,
    "start_time": "2024-11-18T22:53:18.813Z"
   },
   {
    "duration": 21,
    "start_time": "2024-11-18T22:53:21.988Z"
   },
   {
    "duration": 3,
    "start_time": "2024-11-18T22:53:26.368Z"
   },
   {
    "duration": 3,
    "start_time": "2024-11-18T22:53:41.089Z"
   },
   {
    "duration": 272,
    "start_time": "2024-11-18T22:54:05.767Z"
   },
   {
    "duration": 46,
    "start_time": "2024-11-18T22:54:12.001Z"
   },
   {
    "duration": 423,
    "start_time": "2024-11-18T22:55:17.336Z"
   },
   {
    "duration": 4,
    "start_time": "2024-11-18T22:57:03.597Z"
   },
   {
    "duration": 108784,
    "start_time": "2024-11-18T22:57:47.225Z"
   },
   {
    "duration": 2796,
    "start_time": "2024-11-19T17:32:23.989Z"
   },
   {
    "duration": 330,
    "start_time": "2024-11-19T17:32:26.787Z"
   },
   {
    "duration": 13,
    "start_time": "2024-11-19T17:32:27.119Z"
   },
   {
    "duration": 11,
    "start_time": "2024-11-19T17:32:27.134Z"
   },
   {
    "duration": 18,
    "start_time": "2024-11-19T17:32:28.657Z"
   },
   {
    "duration": 5,
    "start_time": "2024-11-19T17:32:31.597Z"
   },
   {
    "duration": 23,
    "start_time": "2024-11-19T17:32:33.307Z"
   },
   {
    "duration": 13,
    "start_time": "2024-11-19T17:32:35.677Z"
   },
   {
    "duration": 4,
    "start_time": "2024-11-19T17:32:53.587Z"
   },
   {
    "duration": 25,
    "start_time": "2024-11-19T17:32:55.310Z"
   },
   {
    "duration": 35,
    "start_time": "2024-11-19T17:33:03.150Z"
   },
   {
    "duration": 2,
    "start_time": "2024-11-19T17:33:05.909Z"
   },
   {
    "duration": 3,
    "start_time": "2024-11-19T17:38:55.653Z"
   },
   {
    "duration": 408,
    "start_time": "2024-11-19T17:38:59.609Z"
   },
   {
    "duration": 457,
    "start_time": "2024-11-19T17:39:17.167Z"
   },
   {
    "duration": 364,
    "start_time": "2024-11-19T17:41:19.054Z"
   },
   {
    "duration": 2,
    "start_time": "2024-11-19T17:42:53.471Z"
   },
   {
    "duration": 4,
    "start_time": "2024-11-19T17:43:21.441Z"
   },
   {
    "duration": 4,
    "start_time": "2024-11-19T20:52:30.197Z"
   },
   {
    "duration": 124,
    "start_time": "2024-11-19T20:53:09.826Z"
   },
   {
    "duration": 254,
    "start_time": "2024-11-19T20:53:23.916Z"
   },
   {
    "duration": 3,
    "start_time": "2024-11-19T21:04:08.232Z"
   },
   {
    "duration": 256,
    "start_time": "2024-11-19T21:04:09.177Z"
   },
   {
    "duration": 6,
    "start_time": "2024-11-19T21:04:15.142Z"
   },
   {
    "duration": 7,
    "start_time": "2024-11-19T21:05:18.108Z"
   },
   {
    "duration": 286,
    "start_time": "2024-11-19T21:05:23.757Z"
   },
   {
    "duration": 4,
    "start_time": "2024-11-19T21:05:32.135Z"
   },
   {
    "duration": 5,
    "start_time": "2024-11-19T21:34:56.088Z"
   },
   {
    "duration": 3,
    "start_time": "2024-11-19T21:45:59.351Z"
   },
   {
    "duration": 87,
    "start_time": "2024-11-19T21:46:34.616Z"
   },
   {
    "duration": 14,
    "start_time": "2024-11-19T21:47:23.939Z"
   },
   {
    "duration": 85,
    "start_time": "2024-11-19T21:47:41.846Z"
   },
   {
    "duration": 4,
    "start_time": "2024-11-19T21:47:45.516Z"
   },
   {
    "duration": 4,
    "start_time": "2024-11-19T21:49:13.047Z"
   },
   {
    "duration": 95,
    "start_time": "2024-11-19T21:49:13.683Z"
   },
   {
    "duration": 3,
    "start_time": "2024-11-19T21:49:15.242Z"
   },
   {
    "duration": 313,
    "start_time": "2024-11-19T22:01:47.929Z"
   },
   {
    "duration": 310,
    "start_time": "2024-11-19T22:03:26.157Z"
   },
   {
    "duration": 3,
    "start_time": "2024-11-19T22:03:53.648Z"
   },
   {
    "duration": 4,
    "start_time": "2024-11-19T22:04:02.631Z"
   },
   {
    "duration": 299,
    "start_time": "2024-11-19T22:21:23.882Z"
   },
   {
    "duration": 3,
    "start_time": "2024-11-19T22:22:28.538Z"
   },
   {
    "duration": 312,
    "start_time": "2024-11-19T22:23:35.137Z"
   },
   {
    "duration": 4,
    "start_time": "2024-11-19T22:32:21.829Z"
   },
   {
    "duration": 310,
    "start_time": "2024-11-19T22:32:56.066Z"
   },
   {
    "duration": 4,
    "start_time": "2024-11-19T22:34:30.148Z"
   },
   {
    "duration": 298,
    "start_time": "2024-11-19T22:34:31.216Z"
   },
   {
    "duration": 4,
    "start_time": "2024-11-19T22:34:55.732Z"
   },
   {
    "duration": 366,
    "start_time": "2024-11-19T22:34:56.597Z"
   },
   {
    "duration": 4,
    "start_time": "2024-11-19T22:35:38.894Z"
   },
   {
    "duration": 304,
    "start_time": "2024-11-19T22:35:41.748Z"
   },
   {
    "duration": 320,
    "start_time": "2024-11-19T22:37:35.556Z"
   },
   {
    "duration": 4,
    "start_time": "2024-11-19T22:39:14.594Z"
   },
   {
    "duration": 400,
    "start_time": "2024-11-19T22:39:16.953Z"
   },
   {
    "duration": 313,
    "start_time": "2024-11-19T22:39:24.741Z"
   },
   {
    "duration": 283,
    "start_time": "2024-11-19T22:39:51.585Z"
   },
   {
    "duration": 3,
    "start_time": "2024-11-19T22:53:08.546Z"
   },
   {
    "duration": 3,
    "start_time": "2024-11-19T22:53:09.651Z"
   },
   {
    "duration": 3,
    "start_time": "2024-11-19T23:10:29.875Z"
   },
   {
    "duration": 223,
    "start_time": "2024-11-19T23:10:29.880Z"
   },
   {
    "duration": 11,
    "start_time": "2024-11-19T23:10:30.105Z"
   },
   {
    "duration": 12,
    "start_time": "2024-11-19T23:10:30.118Z"
   },
   {
    "duration": 15,
    "start_time": "2024-11-19T23:10:30.132Z"
   },
   {
    "duration": 5,
    "start_time": "2024-11-19T23:10:30.148Z"
   },
   {
    "duration": 22,
    "start_time": "2024-11-19T23:10:30.155Z"
   },
   {
    "duration": 40,
    "start_time": "2024-11-19T23:10:30.178Z"
   },
   {
    "duration": 4,
    "start_time": "2024-11-19T23:10:30.220Z"
   },
   {
    "duration": 94,
    "start_time": "2024-11-19T23:10:30.226Z"
   },
   {
    "duration": 103,
    "start_time": "2024-11-19T23:10:30.324Z"
   },
   {
    "duration": 3,
    "start_time": "2024-11-19T23:10:30.429Z"
   },
   {
    "duration": 77,
    "start_time": "2024-11-19T23:10:30.434Z"
   },
   {
    "duration": 402,
    "start_time": "2024-11-19T23:10:30.513Z"
   },
   {
    "duration": 3,
    "start_time": "2024-11-19T23:10:30.917Z"
   },
   {
    "duration": 6,
    "start_time": "2024-11-19T23:10:30.921Z"
   },
   {
    "duration": 80,
    "start_time": "2024-11-19T23:10:30.930Z"
   },
   {
    "duration": 5,
    "start_time": "2024-11-19T23:10:31.012Z"
   },
   {
    "duration": 333,
    "start_time": "2024-11-19T23:10:31.019Z"
   },
   {
    "duration": 308,
    "start_time": "2024-11-19T23:10:31.356Z"
   },
   {
    "duration": 319,
    "start_time": "2024-11-19T23:10:58.040Z"
   },
   {
    "duration": 918,
    "start_time": "2024-11-19T23:13:36.271Z"
   },
   {
    "duration": 235,
    "start_time": "2024-11-19T23:13:37.192Z"
   },
   {
    "duration": 12,
    "start_time": "2024-11-19T23:13:37.429Z"
   },
   {
    "duration": 11,
    "start_time": "2024-11-19T23:13:37.443Z"
   },
   {
    "duration": 17,
    "start_time": "2024-11-19T23:13:37.456Z"
   },
   {
    "duration": 4,
    "start_time": "2024-11-19T23:13:37.474Z"
   },
   {
    "duration": 50,
    "start_time": "2024-11-19T23:13:37.481Z"
   },
   {
    "duration": 13,
    "start_time": "2024-11-19T23:13:37.534Z"
   },
   {
    "duration": 5,
    "start_time": "2024-11-19T23:13:37.549Z"
   },
   {
    "duration": 77,
    "start_time": "2024-11-19T23:13:37.557Z"
   },
   {
    "duration": 177,
    "start_time": "2024-11-19T23:13:37.636Z"
   },
   {
    "duration": 5,
    "start_time": "2024-11-19T23:13:37.815Z"
   },
   {
    "duration": 2,
    "start_time": "2024-11-19T23:13:37.822Z"
   },
   {
    "duration": 403,
    "start_time": "2024-11-19T23:13:37.828Z"
   },
   {
    "duration": 76,
    "start_time": "2024-11-19T23:13:38.233Z"
   },
   {
    "duration": 9,
    "start_time": "2024-11-19T23:13:38.311Z"
   },
   {
    "duration": 6,
    "start_time": "2024-11-19T23:13:38.323Z"
   },
   {
    "duration": 3,
    "start_time": "2024-11-19T23:13:38.331Z"
   },
   {
    "duration": 442,
    "start_time": "2024-11-19T23:13:38.335Z"
   },
   {
    "duration": 303,
    "start_time": "2024-11-19T23:13:38.778Z"
   },
   {
    "duration": 287,
    "start_time": "2024-11-19T23:13:39.083Z"
   },
   {
    "duration": 9,
    "start_time": "2024-11-19T23:51:12.445Z"
   },
   {
    "duration": 5,
    "start_time": "2024-11-19T23:51:18.939Z"
   },
   {
    "duration": 228,
    "start_time": "2024-11-19T23:53:30.549Z"
   },
   {
    "duration": 5,
    "start_time": "2024-11-20T00:01:38.202Z"
   },
   {
    "duration": 5,
    "start_time": "2024-11-20T00:01:55.154Z"
   },
   {
    "duration": 16,
    "start_time": "2024-11-20T00:02:47.785Z"
   },
   {
    "duration": 15,
    "start_time": "2024-11-20T00:02:53.045Z"
   },
   {
    "duration": 6,
    "start_time": "2024-11-20T00:03:40.096Z"
   },
   {
    "duration": 370,
    "start_time": "2024-11-20T00:04:06.884Z"
   },
   {
    "duration": 7,
    "start_time": "2024-11-20T00:04:11.151Z"
   },
   {
    "duration": 8,
    "start_time": "2024-11-20T00:04:37.370Z"
   },
   {
    "duration": 3,
    "start_time": "2024-11-20T00:04:52.462Z"
   },
   {
    "duration": 4,
    "start_time": "2024-11-20T00:05:04.215Z"
   },
   {
    "duration": 14,
    "start_time": "2024-11-20T00:06:07.068Z"
   },
   {
    "duration": 3,
    "start_time": "2024-11-20T00:06:51.445Z"
   },
   {
    "duration": 3,
    "start_time": "2024-11-20T00:06:52.180Z"
   },
   {
    "duration": 4,
    "start_time": "2024-11-20T00:10:56.111Z"
   },
   {
    "duration": 21,
    "start_time": "2024-11-20T00:13:17.272Z"
   },
   {
    "duration": 95,
    "start_time": "2024-11-20T00:13:22.239Z"
   },
   {
    "duration": 94,
    "start_time": "2024-11-20T00:14:27.948Z"
   },
   {
    "duration": 238,
    "start_time": "2024-11-20T00:15:08.099Z"
   },
   {
    "duration": 89,
    "start_time": "2024-11-20T00:18:28.695Z"
   },
   {
    "duration": 222,
    "start_time": "2024-11-20T00:18:29.492Z"
   },
   {
    "duration": 206,
    "start_time": "2024-11-20T00:21:01.772Z"
   },
   {
    "duration": 2644,
    "start_time": "2024-11-20T15:05:30.710Z"
   },
   {
    "duration": 312,
    "start_time": "2024-11-20T15:05:33.357Z"
   },
   {
    "duration": 13,
    "start_time": "2024-11-20T15:05:33.670Z"
   },
   {
    "duration": 24,
    "start_time": "2024-11-20T15:05:33.685Z"
   },
   {
    "duration": 17,
    "start_time": "2024-11-20T15:05:33.711Z"
   },
   {
    "duration": 4,
    "start_time": "2024-11-20T15:05:33.730Z"
   },
   {
    "duration": 20,
    "start_time": "2024-11-20T15:05:33.736Z"
   },
   {
    "duration": 52,
    "start_time": "2024-11-20T15:05:33.757Z"
   },
   {
    "duration": 5,
    "start_time": "2024-11-20T15:05:33.811Z"
   },
   {
    "duration": 99,
    "start_time": "2024-11-20T15:05:33.819Z"
   },
   {
    "duration": 92,
    "start_time": "2024-11-20T15:05:33.920Z"
   },
   {
    "duration": 2,
    "start_time": "2024-11-20T15:05:34.014Z"
   },
   {
    "duration": 3,
    "start_time": "2024-11-20T15:05:34.018Z"
   },
   {
    "duration": 408,
    "start_time": "2024-11-20T15:05:34.023Z"
   },
   {
    "duration": 77,
    "start_time": "2024-11-20T15:05:34.433Z"
   },
   {
    "duration": 2,
    "start_time": "2024-11-20T15:05:34.512Z"
   },
   {
    "duration": 3,
    "start_time": "2024-11-20T15:05:34.516Z"
   },
   {
    "duration": 153,
    "start_time": "2024-11-20T15:05:34.520Z"
   },
   {
    "duration": 236,
    "start_time": "2024-11-20T15:05:34.675Z"
   },
   {
    "duration": 210,
    "start_time": "2024-11-20T17:05:55.469Z"
   },
   {
    "duration": 95,
    "start_time": "2024-11-20T17:07:38.450Z"
   },
   {
    "duration": 198,
    "start_time": "2024-11-20T17:07:39.251Z"
   },
   {
    "duration": 97,
    "start_time": "2024-11-20T17:07:59.742Z"
   },
   {
    "duration": 206,
    "start_time": "2024-11-20T17:08:00.669Z"
   },
   {
    "duration": 234,
    "start_time": "2024-11-20T17:13:52.032Z"
   },
   {
    "duration": 169,
    "start_time": "2024-11-20T17:14:20.830Z"
   },
   {
    "duration": 294,
    "start_time": "2024-11-20T17:14:33.147Z"
   },
   {
    "duration": 6,
    "start_time": "2024-11-20T17:15:38.446Z"
   },
   {
    "duration": 3,
    "start_time": "2024-11-20T17:16:45.190Z"
   },
   {
    "duration": 5,
    "start_time": "2024-11-20T17:16:52.212Z"
   },
   {
    "duration": 6,
    "start_time": "2024-11-20T17:17:24.906Z"
   },
   {
    "duration": 5,
    "start_time": "2024-11-20T17:17:48.637Z"
   },
   {
    "duration": 15,
    "start_time": "2024-11-20T17:18:56.287Z"
   },
   {
    "duration": 5,
    "start_time": "2024-11-20T17:19:03.500Z"
   },
   {
    "duration": 217,
    "start_time": "2024-11-20T17:19:33.284Z"
   },
   {
    "duration": 189,
    "start_time": "2024-11-20T17:19:40.082Z"
   },
   {
    "duration": 4,
    "start_time": "2024-11-20T17:20:49.952Z"
   },
   {
    "duration": 7,
    "start_time": "2024-11-20T17:20:59.168Z"
   },
   {
    "duration": 6,
    "start_time": "2024-11-20T17:21:20.878Z"
   },
   {
    "duration": 7,
    "start_time": "2024-11-20T17:21:35.965Z"
   },
   {
    "duration": 6,
    "start_time": "2024-11-20T17:21:59.431Z"
   },
   {
    "duration": 6,
    "start_time": "2024-11-20T17:22:36.421Z"
   },
   {
    "duration": 6,
    "start_time": "2024-11-20T17:22:42.156Z"
   },
   {
    "duration": 6,
    "start_time": "2024-11-20T17:23:03.684Z"
   },
   {
    "duration": 6,
    "start_time": "2024-11-20T17:23:51.472Z"
   },
   {
    "duration": 6,
    "start_time": "2024-11-20T17:24:08.074Z"
   },
   {
    "duration": 6,
    "start_time": "2024-11-20T17:24:24.814Z"
   },
   {
    "duration": 250,
    "start_time": "2024-11-20T17:24:49.008Z"
   },
   {
    "duration": 225,
    "start_time": "2024-11-20T17:24:59.241Z"
   },
   {
    "duration": 2,
    "start_time": "2024-11-20T17:29:38.005Z"
   },
   {
    "duration": 3,
    "start_time": "2024-11-20T17:29:40.041Z"
   },
   {
    "duration": 228,
    "start_time": "2024-11-20T17:29:51.513Z"
   },
   {
    "duration": 223,
    "start_time": "2024-11-20T17:30:06.091Z"
   },
   {
    "duration": 4,
    "start_time": "2024-11-20T20:28:44.356Z"
   },
   {
    "duration": 4,
    "start_time": "2024-11-20T20:29:08.078Z"
   },
   {
    "duration": 4,
    "start_time": "2024-11-20T20:29:17.465Z"
   },
   {
    "duration": 12,
    "start_time": "2024-11-20T20:34:24.938Z"
   },
   {
    "duration": 2,
    "start_time": "2024-11-20T20:34:32.344Z"
   },
   {
    "duration": 6,
    "start_time": "2024-11-20T20:50:23.152Z"
   },
   {
    "duration": 15,
    "start_time": "2024-11-20T22:41:37.786Z"
   },
   {
    "duration": 17,
    "start_time": "2024-11-20T22:41:45.586Z"
   },
   {
    "duration": 13,
    "start_time": "2024-11-20T22:41:55.039Z"
   },
   {
    "duration": 36,
    "start_time": "2024-11-20T22:42:31.115Z"
   },
   {
    "duration": 34,
    "start_time": "2024-11-20T22:42:50.559Z"
   },
   {
    "duration": 15,
    "start_time": "2024-11-20T22:43:34.947Z"
   },
   {
    "duration": 39,
    "start_time": "2024-11-20T22:43:46.267Z"
   },
   {
    "duration": 9,
    "start_time": "2024-11-20T22:43:55.330Z"
   },
   {
    "duration": 16,
    "start_time": "2024-11-20T22:45:06.837Z"
   },
   {
    "duration": 397,
    "start_time": "2024-11-20T22:45:27.189Z"
   },
   {
    "duration": 17,
    "start_time": "2024-11-20T22:47:15.006Z"
   },
   {
    "duration": 18,
    "start_time": "2024-11-20T22:47:25.434Z"
   },
   {
    "duration": 3,
    "start_time": "2024-11-20T22:47:34.329Z"
   },
   {
    "duration": 14,
    "start_time": "2024-11-20T22:47:41.368Z"
   },
   {
    "duration": 3,
    "start_time": "2024-11-20T22:48:49.520Z"
   },
   {
    "duration": 214,
    "start_time": "2024-11-20T22:49:50.611Z"
   },
   {
    "duration": 11,
    "start_time": "2024-11-20T22:49:52.235Z"
   },
   {
    "duration": 37,
    "start_time": "2024-11-20T22:49:53.800Z"
   },
   {
    "duration": 19,
    "start_time": "2024-11-20T22:51:57.566Z"
   },
   {
    "duration": 6,
    "start_time": "2024-11-20T22:51:59.356Z"
   },
   {
    "duration": 44,
    "start_time": "2024-11-20T22:53:16.276Z"
   },
   {
    "duration": 47,
    "start_time": "2024-11-20T22:57:15.843Z"
   },
   {
    "duration": 870,
    "start_time": "2024-11-20T22:57:35.408Z"
   },
   {
    "duration": 232,
    "start_time": "2024-11-20T22:57:36.281Z"
   },
   {
    "duration": 11,
    "start_time": "2024-11-20T22:57:36.515Z"
   },
   {
    "duration": 51,
    "start_time": "2024-11-20T22:57:36.528Z"
   },
   {
    "duration": 11,
    "start_time": "2024-11-20T22:57:36.580Z"
   },
   {
    "duration": 43,
    "start_time": "2024-11-20T22:57:36.608Z"
   },
   {
    "duration": 18,
    "start_time": "2024-11-20T22:57:36.653Z"
   },
   {
    "duration": 62,
    "start_time": "2024-11-20T22:57:36.673Z"
   },
   {
    "duration": 3,
    "start_time": "2024-11-20T22:57:36.736Z"
   },
   {
    "duration": 18,
    "start_time": "2024-11-20T22:57:36.743Z"
   },
   {
    "duration": 11,
    "start_time": "2024-11-20T22:57:36.762Z"
   },
   {
    "duration": 36,
    "start_time": "2024-11-20T22:57:36.774Z"
   },
   {
    "duration": 103,
    "start_time": "2024-11-20T22:57:36.811Z"
   },
   {
    "duration": 95,
    "start_time": "2024-11-20T22:57:36.916Z"
   },
   {
    "duration": 2,
    "start_time": "2024-11-20T22:57:37.013Z"
   },
   {
    "duration": 3,
    "start_time": "2024-11-20T22:57:37.017Z"
   },
   {
    "duration": 415,
    "start_time": "2024-11-20T22:57:37.022Z"
   },
   {
    "duration": 3,
    "start_time": "2024-11-20T22:57:37.510Z"
   },
   {
    "duration": 3,
    "start_time": "2024-11-20T22:57:37.515Z"
   },
   {
    "duration": 3,
    "start_time": "2024-11-20T22:57:37.520Z"
   },
   {
    "duration": 293,
    "start_time": "2024-11-20T22:57:37.525Z"
   },
   {
    "duration": 289,
    "start_time": "2024-11-20T22:57:37.820Z"
   },
   {
    "duration": 247,
    "start_time": "2024-11-20T23:01:23.996Z"
   },
   {
    "duration": 93,
    "start_time": "2024-11-20T23:40:43.052Z"
   },
   {
    "duration": 195,
    "start_time": "2024-11-20T23:41:53.985Z"
   },
   {
    "duration": 242,
    "start_time": "2024-11-20T23:47:27.075Z"
   },
   {
    "duration": 6,
    "start_time": "2024-11-21T00:08:33.684Z"
   },
   {
    "duration": 18,
    "start_time": "2024-11-21T00:10:57.910Z"
   },
   {
    "duration": 4,
    "start_time": "2024-11-21T00:17:00.838Z"
   },
   {
    "duration": 239,
    "start_time": "2024-11-21T00:17:16.385Z"
   },
   {
    "duration": 4,
    "start_time": "2024-11-21T00:18:08.717Z"
   },
   {
    "duration": 141,
    "start_time": "2024-11-21T00:18:09.272Z"
   },
   {
    "duration": 17,
    "start_time": "2024-11-21T00:18:45.884Z"
   },
   {
    "duration": 3,
    "start_time": "2024-11-21T00:20:15.110Z"
   },
   {
    "duration": 21,
    "start_time": "2024-11-21T00:20:29.946Z"
   },
   {
    "duration": 3,
    "start_time": "2024-11-21T00:23:00.528Z"
   },
   {
    "duration": 876,
    "start_time": "2024-11-21T00:23:14.898Z"
   },
   {
    "duration": 221,
    "start_time": "2024-11-21T00:23:16.667Z"
   },
   {
    "duration": 13,
    "start_time": "2024-11-21T00:23:20.052Z"
   },
   {
    "duration": 54,
    "start_time": "2024-11-21T00:23:26.759Z"
   },
   {
    "duration": 11,
    "start_time": "2024-11-21T00:23:27.942Z"
   },
   {
    "duration": 49,
    "start_time": "2024-11-21T00:23:30.849Z"
   },
   {
    "duration": 18,
    "start_time": "2024-11-21T00:23:33.229Z"
   },
   {
    "duration": 52,
    "start_time": "2024-11-21T00:23:38.904Z"
   },
   {
    "duration": 4,
    "start_time": "2024-11-21T00:24:35.536Z"
   },
   {
    "duration": 20,
    "start_time": "2024-11-21T00:24:38.779Z"
   },
   {
    "duration": 17,
    "start_time": "2024-11-21T00:24:53.552Z"
   },
   {
    "duration": 3,
    "start_time": "2024-11-21T00:25:27.984Z"
   },
   {
    "duration": 4,
    "start_time": "2024-11-21T00:27:45.118Z"
   },
   {
    "duration": 22,
    "start_time": "2024-11-21T00:27:51.434Z"
   },
   {
    "duration": 21,
    "start_time": "2024-11-21T00:28:03.503Z"
   },
   {
    "duration": 3,
    "start_time": "2024-11-21T00:28:08.655Z"
   },
   {
    "duration": 2,
    "start_time": "2024-11-21T00:29:22.018Z"
   },
   {
    "duration": 294,
    "start_time": "2024-11-21T00:29:57.081Z"
   },
   {
    "duration": 6,
    "start_time": "2024-11-21T00:30:13.874Z"
   },
   {
    "duration": 22,
    "start_time": "2024-11-21T00:30:50.985Z"
   },
   {
    "duration": 8,
    "start_time": "2024-11-21T00:31:15.726Z"
   },
   {
    "duration": 3,
    "start_time": "2024-11-21T00:31:32.224Z"
   },
   {
    "duration": 3,
    "start_time": "2024-11-21T00:31:42.330Z"
   },
   {
    "duration": 4,
    "start_time": "2024-11-21T00:31:59.826Z"
   },
   {
    "duration": 24,
    "start_time": "2024-11-21T00:32:05.655Z"
   },
   {
    "duration": 5,
    "start_time": "2024-11-21T00:32:27.619Z"
   },
   {
    "duration": 311,
    "start_time": "2024-11-21T00:32:28.375Z"
   },
   {
    "duration": 4,
    "start_time": "2024-11-21T00:33:05.413Z"
   },
   {
    "duration": 147,
    "start_time": "2024-11-21T00:33:06.530Z"
   },
   {
    "duration": 5,
    "start_time": "2024-11-21T00:34:04.025Z"
   },
   {
    "duration": 544,
    "start_time": "2024-11-21T00:34:04.831Z"
   },
   {
    "duration": 553,
    "start_time": "2024-11-21T00:40:27.310Z"
   },
   {
    "duration": 519,
    "start_time": "2024-11-21T00:41:15.807Z"
   },
   {
    "duration": 558,
    "start_time": "2024-11-21T00:41:31.411Z"
   },
   {
    "duration": 5,
    "start_time": "2024-11-21T03:08:13.569Z"
   },
   {
    "duration": 504,
    "start_time": "2024-11-21T03:08:20.613Z"
   },
   {
    "duration": 5,
    "start_time": "2024-11-21T03:08:36.841Z"
   },
   {
    "duration": 542,
    "start_time": "2024-11-21T03:08:38.516Z"
   },
   {
    "duration": 512,
    "start_time": "2024-11-21T03:08:44.900Z"
   },
   {
    "duration": 531,
    "start_time": "2024-11-21T03:08:50.127Z"
   },
   {
    "duration": 5,
    "start_time": "2024-11-21T03:11:10.159Z"
   },
   {
    "duration": 2812,
    "start_time": "2024-11-21T16:07:32.431Z"
   },
   {
    "duration": 308,
    "start_time": "2024-11-21T16:07:36.218Z"
   },
   {
    "duration": 15,
    "start_time": "2024-11-21T16:07:39.970Z"
   },
   {
    "duration": 57,
    "start_time": "2024-11-21T16:07:41.733Z"
   },
   {
    "duration": 13,
    "start_time": "2024-11-21T16:07:43.352Z"
   },
   {
    "duration": 51,
    "start_time": "2024-11-21T16:07:44.493Z"
   },
   {
    "duration": 19,
    "start_time": "2024-11-21T16:07:46.690Z"
   },
   {
    "duration": 56,
    "start_time": "2024-11-21T16:07:59.873Z"
   },
   {
    "duration": 3,
    "start_time": "2024-11-21T16:08:02.481Z"
   },
   {
    "duration": 20,
    "start_time": "2024-11-21T16:08:04.476Z"
   },
   {
    "duration": 14,
    "start_time": "2024-11-21T16:08:06.052Z"
   },
   {
    "duration": 4,
    "start_time": "2024-11-21T16:08:08.939Z"
   },
   {
    "duration": 23,
    "start_time": "2024-11-21T16:08:11.087Z"
   },
   {
    "duration": 20,
    "start_time": "2024-11-21T16:08:14.697Z"
   },
   {
    "duration": 21,
    "start_time": "2024-11-21T16:08:17.474Z"
   },
   {
    "duration": 2,
    "start_time": "2024-11-21T16:08:21.654Z"
   },
   {
    "duration": 3,
    "start_time": "2024-11-21T16:08:24.478Z"
   },
   {
    "duration": 8,
    "start_time": "2024-11-21T16:08:26.201Z"
   },
   {
    "duration": 3,
    "start_time": "2024-11-21T16:08:27.902Z"
   },
   {
    "duration": 3,
    "start_time": "2024-11-21T16:08:29.443Z"
   },
   {
    "duration": 4,
    "start_time": "2024-11-21T16:08:44.806Z"
   },
   {
    "duration": 560,
    "start_time": "2024-11-21T16:08:46.655Z"
   },
   {
    "duration": 519,
    "start_time": "2024-11-21T16:08:49.345Z"
   },
   {
    "duration": 494,
    "start_time": "2024-11-21T16:08:52.121Z"
   },
   {
    "duration": 15,
    "start_time": "2024-11-21T19:53:12.016Z"
   },
   {
    "duration": 14,
    "start_time": "2024-11-21T19:53:19.199Z"
   },
   {
    "duration": 16,
    "start_time": "2024-11-21T19:53:25.097Z"
   },
   {
    "duration": 3,
    "start_time": "2024-11-21T19:54:11.054Z"
   },
   {
    "duration": 14,
    "start_time": "2024-11-21T19:54:22.593Z"
   },
   {
    "duration": 300,
    "start_time": "2024-11-21T19:54:28.443Z"
   },
   {
    "duration": 434,
    "start_time": "2024-11-21T19:54:31.965Z"
   },
   {
    "duration": 428,
    "start_time": "2024-11-21T19:55:05.679Z"
   },
   {
    "duration": 460,
    "start_time": "2024-11-21T19:55:14.245Z"
   }
  ],
  "kernelspec": {
   "display_name": "Python 3",
   "language": "python",
   "name": "python3"
  },
  "language_info": {
   "codemirror_mode": {
    "name": "ipython",
    "version": 3
   },
   "file_extension": ".py",
   "mimetype": "text/x-python",
   "name": "python",
   "nbconvert_exporter": "python",
   "pygments_lexer": "ipython3",
   "version": "3.6.4"
  },
  "toc": {
   "base_numbering": 1,
   "nav_menu": {},
   "number_sections": true,
   "sideBar": true,
   "skip_h1_title": true,
   "title_cell": "Table of Contents",
   "title_sidebar": "Contents",
   "toc_cell": false,
   "toc_position": {},
   "toc_section_display": true,
   "toc_window_display": false
  }
 },
 "nbformat": 4,
 "nbformat_minor": 2
}
